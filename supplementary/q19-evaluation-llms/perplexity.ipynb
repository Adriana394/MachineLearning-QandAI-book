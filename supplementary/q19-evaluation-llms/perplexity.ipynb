{
 "cells": [
  {
   "cell_type": "markdown",
   "id": "9bf02855-2a2a-433f-bc8a-883abf99ee34",
   "metadata": {},
   "source": [
    "# Perplexity"
   ]
  },
  {
   "cell_type": "code",
   "execution_count": 1,
   "id": "61c9de47-7f26-4c77-8c8f-0592716c337b",
   "metadata": {},
   "outputs": [],
   "source": [
    "import numpy as np\n",
    "\n",
    "def calculate_perplexity(probabilities):\n",
    "    log_probs = np.log2(probabilities)\n",
    "    avg_log_prob = np.mean(log_probs)\n",
    "    perplexity = 2 ** (-avg_log_prob)\n",
    "    return perplexity"
   ]
  },
  {
   "cell_type": "code",
   "execution_count": 2,
   "id": "2d17c850-0867-4196-9477-895b879e975a",
   "metadata": {},
   "outputs": [
    {
     "name": "stdout",
     "output_type": "stream",
     "text": [
      "Perplexity sentence 1: 1.04333190315947\n"
     ]
    }
   ],
   "source": [
    "true_sentence = \"The quick brown fox jumps over the lazy dog\"\n",
    "sentence_1 = \"The fast black cat jumps over the lazy dog\"\n",
    "\n",
    "s1_word_proba = [0.99, 0.85, 0.89, 0.99, 0.99, 0.99, 0.99, 0.99]\n",
    "perplexity = calculate_perplexity(s1_word_proba)\n",
    "print(\"Perplexity sentence 1:\", perplexity)"
   ]
  },
  {
   "cell_type": "code",
   "execution_count": 3,
   "id": "b50c6432-b7e2-4400-8ef1-4ed393019444",
   "metadata": {},
   "outputs": [
    {
     "name": "stdout",
     "output_type": "stream",
     "text": [
      "Perplexity sentence 2: 2.419227171949897\n"
     ]
    }
   ],
   "source": [
    "sentence_2 = \"The bold orange car drove by the lazy dog\"\n",
    "\n",
    "s2_word_proba = [0.99, 0.65, 0.13, 0.05, 0.21, 0.99, 0.99, 0.99]\n",
    "perplexity = calculate_perplexity(s2_word_proba)\n",
    "print(\"Perplexity sentence 2:\", perplexity)"
   ]
  },
  {
   "cell_type": "markdown",
   "id": "747e4746-db4f-4dce-9232-fd681ccdc463",
   "metadata": {},
   "source": [
    "## Relationship to Cross Entropy"
   ]
  },
  {
   "cell_type": "code",
   "execution_count": 4,
   "id": "30d5ea03-5576-4ac3-9acd-12deae2004ba",
   "metadata": {},
   "outputs": [],
   "source": [
    "def cross_entropy(p, q):\n",
    "    # Clip q to avoid log2(0) which is undefined\n",
    "    q = np.clip(q, 1e-10, 1.0)\n",
    "    H = -np.sum(p * np.log2(q))\n",
    "    \n",
    "    return H\n",
    "\n",
    "n = len(s1_word_proba)"
   ]
  },
  {
   "cell_type": "code",
   "execution_count": 5,
   "id": "fd3a9a63-2f89-45e9-a088-c97edd6744e5",
   "metadata": {},
   "outputs": [
    {
     "data": {
      "text/plain": [
       "0.48958543061604043"
      ]
     },
     "execution_count": 5,
     "metadata": {},
     "output_type": "execute_result"
    }
   ],
   "source": [
    "cross_entropy(np.ones(n), s1_word_proba)"
   ]
  },
  {
   "cell_type": "code",
   "execution_count": 6,
   "id": "77d3c672-5688-4131-a093-6ed099398f10",
   "metadata": {},
   "outputs": [
    {
     "data": {
      "text/plain": [
       "1.04333190315947"
      ]
     },
     "execution_count": 6,
     "metadata": {},
     "output_type": "execute_result"
    }
   ],
   "source": [
    "2**(cross_entropy(np.ones(n), s1_word_proba) / n )"
   ]
  },
  {
   "cell_type": "code",
   "execution_count": 7,
   "id": "678e6e34-2e7c-41e8-939d-7e061e06e5c0",
   "metadata": {},
   "outputs": [
    {
     "data": {
      "text/plain": [
       "1.04333190315947"
      ]
     },
     "execution_count": 7,
     "metadata": {},
     "output_type": "execute_result"
    }
   ],
   "source": [
    "calculate_perplexity(s1_word_proba)"
   ]
  }
 ],
 "metadata": {
  "kernelspec": {
   "display_name": "Python 3 (ipykernel)",
   "language": "python",
   "name": "python3"
  },
  "language_info": {
   "codemirror_mode": {
    "name": "ipython",
    "version": 3
   },
   "file_extension": ".py",
   "mimetype": "text/x-python",
   "name": "python",
   "nbconvert_exporter": "python",
   "pygments_lexer": "ipython3",
   "version": "3.10.6"
  }
 },
 "nbformat": 4,
 "nbformat_minor": 5
}
