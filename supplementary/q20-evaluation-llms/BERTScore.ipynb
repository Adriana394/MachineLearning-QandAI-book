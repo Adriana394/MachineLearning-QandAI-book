{
 "cells": [
  {
   "cell_type": "markdown",
   "id": "ec420a7d-9ff0-4e83-8b25-5e6ec1422900",
   "metadata": {},
   "source": [
    "# BERT Score"
   ]
  },
  {
   "cell_type": "code",
   "execution_count": 1,
   "id": "f962b7b7-a42b-4422-a7d3-27b70bf02d1f",
   "metadata": {},
   "outputs": [],
   "source": [
    "import torch\n",
    "import numpy as np\n",
    "from transformers import BertTokenizer, BertModel\n",
    "\n",
    "def cosine_similarity(a, b):\n",
    "    return np.dot(a, b) / (np.linalg.norm(a) * np.linalg.norm(b))\n",
    "\n",
    "def bert_score(reference, candidate, return_similarity_matrix=False):\n",
    "    \n",
    "    # Load the BERT tokenizer and model\n",
    "    tokenizer = BertTokenizer.from_pretrained(\"bert-base-uncased\")\n",
    "    model = BertModel.from_pretrained(\"bert-base-uncased\")\n",
    "    \n",
    "    # Tokenize the input text\n",
    "    ref_tokens = tokenizer(reference, return_tensors=\"pt\", add_special_tokens=False)\n",
    "    can_tokens = tokenizer(candidate, return_tensors=\"pt\", add_special_tokens=False)\n",
    "\n",
    "    # Get the BERT embeddings\n",
    "    model.eval()\n",
    "    with torch.no_grad():\n",
    "        ref_outputs = model(**ref_tokens)\n",
    "        ref_embeddings = ref_outputs.last_hidden_state[0]\n",
    "\n",
    "        can_outputs = model(**can_tokens)\n",
    "        can_embeddings = can_outputs.last_hidden_state[0]\n",
    "        \n",
    "    # Compute cosine similarities\n",
    "    cosine_similarities = np.zeros((can_embeddings.shape[0], ref_embeddings.shape[0]))\n",
    "    for i, c in enumerate(can_embeddings):\n",
    "        for j, r in enumerate(ref_embeddings):\n",
    "            cosine_similarities[i, j] = cosine_similarity(c, r)\n",
    "    \n",
    "\n",
    "    # Align cosine similarities\n",
    "    max_similarities = cosine_similarities.max(axis=1)\n",
    "\n",
    "    # Average similarity scores\n",
    "    bertscore = max_similarities.mean()\n",
    "\n",
    "    if return_similarity_matrix:\n",
    "        return bertscore, cosine_similarities\n",
    "    else:\n",
    "        return bertscore"
   ]
  },
  {
   "cell_type": "code",
   "execution_count": 2,
   "id": "46883444-11af-46a3-bb2a-22329c3558ae",
   "metadata": {},
   "outputs": [
    {
     "name": "stderr",
     "output_type": "stream",
     "text": [
      "Some weights of the model checkpoint at bert-base-uncased were not used when initializing BertModel: ['cls.seq_relationship.weight', 'cls.predictions.transform.LayerNorm.weight', 'cls.predictions.decoder.weight', 'cls.predictions.bias', 'cls.predictions.transform.dense.weight', 'cls.seq_relationship.bias', 'cls.predictions.transform.LayerNorm.bias', 'cls.predictions.transform.dense.bias']\n",
      "- This IS expected if you are initializing BertModel from the checkpoint of a model trained on another task or with another architecture (e.g. initializing a BertForSequenceClassification model from a BertForPreTraining model).\n",
      "- This IS NOT expected if you are initializing BertModel from the checkpoint of a model that you expect to be exactly identical (initializing a BertForSequenceClassification model from a BertForSequenceClassification model).\n"
     ]
    },
    {
     "data": {
      "text/plain": [
       "0.8767206933763292"
      ]
     },
     "execution_count": 2,
     "metadata": {},
     "output_type": "execute_result"
    }
   ],
   "source": [
    "# Define the input text\n",
    "reference = \"The quick brown fox jumps over the lazy dog.\"\n",
    "candidate = \"A quick brown fox leaps over a dog.\"\n",
    "\n",
    "bert_score(reference, candidate)"
   ]
  },
  {
   "cell_type": "code",
   "execution_count": 3,
   "id": "e3494bb3-9742-4cf9-b339-80436b4e4e3b",
   "metadata": {},
   "outputs": [
    {
     "name": "stderr",
     "output_type": "stream",
     "text": [
      "Some weights of the model checkpoint at bert-base-uncased were not used when initializing BertModel: ['cls.seq_relationship.weight', 'cls.predictions.transform.LayerNorm.weight', 'cls.predictions.decoder.weight', 'cls.predictions.bias', 'cls.predictions.transform.dense.weight', 'cls.seq_relationship.bias', 'cls.predictions.transform.LayerNorm.bias', 'cls.predictions.transform.dense.bias']\n",
      "- This IS expected if you are initializing BertModel from the checkpoint of a model trained on another task or with another architecture (e.g. initializing a BertForSequenceClassification model from a BertForPreTraining model).\n",
      "- This IS NOT expected if you are initializing BertModel from the checkpoint of a model that you expect to be exactly identical (initializing a BertForSequenceClassification model from a BertForSequenceClassification model).\n"
     ]
    },
    {
     "data": {
      "text/plain": [
       "0.6320915818214417"
      ]
     },
     "execution_count": 3,
     "metadata": {},
     "output_type": "execute_result"
    }
   ],
   "source": [
    "bert_score(\"fast\", \"quick\")"
   ]
  },
  {
   "cell_type": "code",
   "execution_count": 4,
   "id": "f4ac45db-1227-46b2-bb02-9d4eebcba5d2",
   "metadata": {},
   "outputs": [
    {
     "name": "stderr",
     "output_type": "stream",
     "text": [
      "Some weights of the model checkpoint at bert-base-uncased were not used when initializing BertModel: ['cls.seq_relationship.weight', 'cls.predictions.transform.LayerNorm.weight', 'cls.predictions.decoder.weight', 'cls.predictions.bias', 'cls.predictions.transform.dense.weight', 'cls.seq_relationship.bias', 'cls.predictions.transform.LayerNorm.bias', 'cls.predictions.transform.dense.bias']\n",
      "- This IS expected if you are initializing BertModel from the checkpoint of a model trained on another task or with another architecture (e.g. initializing a BertForSequenceClassification model from a BertForPreTraining model).\n",
      "- This IS NOT expected if you are initializing BertModel from the checkpoint of a model that you expect to be exactly identical (initializing a BertForSequenceClassification model from a BertForSequenceClassification model).\n"
     ]
    },
    {
     "data": {
      "text/plain": [
       "1.0"
      ]
     },
     "execution_count": 4,
     "metadata": {},
     "output_type": "execute_result"
    }
   ],
   "source": [
    "bert_score(\"fast\", \"fast\")"
   ]
  },
  {
   "cell_type": "code",
   "execution_count": 5,
   "id": "ec6c369c-0350-4a7d-8442-051d2a7be83c",
   "metadata": {},
   "outputs": [
    {
     "name": "stderr",
     "output_type": "stream",
     "text": [
      "Some weights of the model checkpoint at bert-base-uncased were not used when initializing BertModel: ['cls.seq_relationship.weight', 'cls.predictions.transform.LayerNorm.weight', 'cls.predictions.decoder.weight', 'cls.predictions.bias', 'cls.predictions.transform.dense.weight', 'cls.seq_relationship.bias', 'cls.predictions.transform.LayerNorm.bias', 'cls.predictions.transform.dense.bias']\n",
      "- This IS expected if you are initializing BertModel from the checkpoint of a model trained on another task or with another architecture (e.g. initializing a BertForSequenceClassification model from a BertForPreTraining model).\n",
      "- This IS NOT expected if you are initializing BertModel from the checkpoint of a model that you expect to be exactly identical (initializing a BertForSequenceClassification model from a BertForSequenceClassification model).\n"
     ]
    },
    {
     "name": "stdout",
     "output_type": "stream",
     "text": [
      "0.685902863740921\n",
      "[[0.63398284 0.52621418 0.51968789]\n",
      " [0.59454805 0.71506584 0.68891364]\n",
      " [0.55240393 0.68978393 0.69811189]\n",
      " [0.55321109 0.69164938 0.69645089]]\n"
     ]
    }
   ],
   "source": [
    "reference = \"The cat jumped\"\n",
    "candidate = \"A cat leaped high\"\n",
    "\n",
    "# Compute BERTScore\n",
    "bertscore, sim_matrix = bert_score(reference, candidate, return_similarity_matrix=True)\n",
    "\n",
    "print(bertscore)\n",
    "print(sim_matrix)"
   ]
  },
  {
   "cell_type": "code",
   "execution_count": 6,
   "id": "cf7f4778-9aa2-4ef5-83de-cbeb31e5b15a",
   "metadata": {},
   "outputs": [],
   "source": [
    "import matplotlib.pyplot as plt\n",
    "import numpy as np\n",
    "\n",
    "\n",
    "def heatmap(\n",
    "    matrix,\n",
    "    hide_spines=False,\n",
    "    hide_ticks=False,\n",
    "    figsize=None,\n",
    "    cmap=None,\n",
    "    colorbar=True,\n",
    "    row_names=None,\n",
    "    column_names=None,\n",
    "    column_name_rotation=45,\n",
    "    cell_values=True,\n",
    "    cell_fmt=\".2f\",\n",
    "    cell_font_size=None,\n",
    "):\n",
    "\n",
    "    if row_names is not None and len(row_names) != matrix.shape[0]:\n",
    "        raise AssertionError(\n",
    "            f\"len(row_names) (got {len(row_names)})\"\n",
    "            \" should be equal to number of\"\n",
    "            \" rows in the input \"\n",
    "            f\" array (expect {matrix.shape[0]}).\"\n",
    "        )\n",
    "\n",
    "    if column_names is not None and len(column_names) != matrix.shape[1]:\n",
    "        raise AssertionError(\n",
    "            f\"len(column_names)\"\n",
    "            \" (got {len(column_names)})\"\n",
    "            \" should be equal to number of\"\n",
    "            \" columns in the\"\n",
    "            f\" input array (expect {matrix.shape[1]}).\"\n",
    "        )\n",
    "\n",
    "    fig, ax = plt.subplots(figsize=figsize)\n",
    "    ax.grid(False)\n",
    "\n",
    "    if cmap is None:\n",
    "        cmap = plt.cm.viridis\n",
    "\n",
    "    if figsize is None:\n",
    "        figsize = (len(matrix) * 1.5, len(matrix) * 1.5)\n",
    "\n",
    "    matshow = ax.matshow(matrix, cmap=cmap)\n",
    "\n",
    "    if colorbar:\n",
    "        fig.colorbar(matshow)\n",
    "\n",
    "    normed_matrix = matrix.astype(\"float\") / matrix.max()\n",
    "\n",
    "    if cell_values:\n",
    "        for i in range(matrix.shape[0]):\n",
    "            for j in range(matrix.shape[1]):\n",
    "                cell_text = format(matrix[i, j], cell_fmt)\n",
    "\n",
    "                ax.text(\n",
    "                    x=j,\n",
    "                    y=i,\n",
    "                    size=cell_font_size,\n",
    "                    s=cell_text,\n",
    "                    va=\"center\",\n",
    "                    ha=\"center\",\n",
    "                    color=\"black\"\n",
    "                    if normed_matrix[i, j] > np.max(normed_matrix) / 2\n",
    "                    else \"black\",\n",
    "                )\n",
    "\n",
    "    if row_names is not None:\n",
    "        tick_marks = np.arange(len(row_names))\n",
    "        plt.yticks(tick_marks, row_names)\n",
    "\n",
    "    if column_names is not None:\n",
    "        tick_marks = np.arange(len(column_names))\n",
    "\n",
    "        if column_name_rotation:\n",
    "            plt.xticks(\n",
    "                tick_marks,\n",
    "                column_names,\n",
    "                rotation=column_name_rotation,\n",
    "                ha=\"right\",\n",
    "                rotation_mode=\"anchor\",\n",
    "            )\n",
    "        else:\n",
    "            plt.xticks(tick_marks, column_names)\n",
    "\n",
    "    if hide_spines:\n",
    "        ax.spines[\"right\"].set_visible(False)\n",
    "        ax.spines[\"top\"].set_visible(False)\n",
    "        ax.spines[\"left\"].set_visible(False)\n",
    "        ax.spines[\"bottom\"].set_visible(False)\n",
    "    ax.yaxis.set_ticks_position(\"left\")\n",
    "    ax.xaxis.set_ticks_position(\"bottom\")\n",
    "    if hide_ticks:\n",
    "        ax.axes.get_yaxis().set_ticks([])\n",
    "        ax.axes.get_xaxis().set_ticks([])\n",
    "\n",
    "    return fig, ax"
   ]
  },
  {
   "cell_type": "code",
   "execution_count": 7,
   "id": "bf64bd2a-77eb-49ed-be75-6cb4e5e32dd7",
   "metadata": {},
   "outputs": [
    {
     "data": {
      "image/png": "[encoded data removed]",
      "text/plain": [
       "<Figure size 400x400 with 2 Axes>"
      ]
     },
     "metadata": {},
     "output_type": "display_data"
    }
   ],
   "source": [
    "from matplotlib import cm\n",
    "from matplotlib.colors import ListedColormap\n",
    "\n",
    "viridisBig = cm.get_cmap('Blues', 512)\n",
    "newcmp = ListedColormap(viridisBig(np.linspace(0.0, 0.5, 256)))\n",
    "\n",
    "fig, ax = heatmap(sim_matrix, column_names=reference.split(), row_names=candidate.split(), cmap=newcmp, figsize=(4, 4))\n",
    "\n",
    "plt.tight_layout()\n",
    "\n",
    "#plt.savefig('matrix.pdf')\n",
    "plt.show()"
   ]
  },
  {
   "cell_type": "code",
   "execution_count": null,
   "id": "e8e0bf59-144c-4299-b738-e28da7567aca",
   "metadata": {},
   "outputs": [],
   "source": []
  },
  {
   "cell_type": "code",
   "execution_count": null,
   "id": "5eb0046b-c6f7-4696-83dd-66b5cd1e177a",
   "metadata": {},
   "outputs": [],
   "source": []
  },
  {
   "cell_type": "code",
   "execution_count": null,
   "id": "73533cb5-2c93-4be9-b4b5-266932fbc3fc",
   "metadata": {},
   "outputs": [],
   "source": []
  }
 ],
 "metadata": {
  "kernelspec": {
   "display_name": "Python 3 (ipykernel)",
   "language": "python",
   "name": "python3"
  },
  "language_info": {
   "codemirror_mode": {
    "name": "ipython",
    "version": 3
   },
   "file_extension": ".py",
   "mimetype": "text/x-python",
   "name": "python",
   "nbconvert_exporter": "python",
   "pygments_lexer": "ipython3",
   "version": "3.10.6"
  }
 },
 "nbformat": 4,
 "nbformat_minor": 5
}
