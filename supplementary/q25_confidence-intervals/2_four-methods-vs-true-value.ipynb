{
 "cells": [
  {
   "cell_type": "markdown",
   "id": "59c0fbea-9eda-4477-be6c-32647cef1ec7",
   "metadata": {},
   "source": [
    "# CI Simulation"
   ]
  },
  {
   "cell_type": "code",
   "execution_count": 1,
   "id": "06090a72-1365-43de-9c37-35c4c4e2f3c4",
   "metadata": {},
   "outputs": [
    {
     "name": "stdout",
     "output_type": "stream",
     "text": [
      "Author: Sebastian Raschka\n",
      "\n",
      "Python implementation: CPython\n",
      "Python version       : 3.10.6\n",
      "IPython version      : 8.12.0\n",
      "\n",
      "numpy     : 1.23.5\n",
      "mlxtend   : 0.22.0\n",
      "matplotlib: 3.7.1\n",
      "sklearn   : 1.2.2\n",
      "\n"
     ]
    }
   ],
   "source": [
    "%load_ext watermark\n",
    "%watermark -a 'Sebastian Raschka' -v -p numpy,mlxtend,matplotlib,sklearn"
   ]
  },
  {
   "cell_type": "markdown",
   "id": "12618aaa-7980-4ed3-8cd8-cd7ce3d3809a",
   "metadata": {},
   "source": [
    "- This notebook supplements the [1_four-methods](1_four-methods) with a simulated case study.\n",
    "\n",
    "- Here, we are interested in seeing whether the true model accuracy (generalization accuracy) is actually contained in the confidence intervals.\n",
    "\n",
    "- For this, we create a synthetic dataset consisting of 10 million and 2 thousand data points for classification as shown in the next section."
   ]
  },
  {
   "cell_type": "markdown",
   "id": "e8412450-153d-4788-89ed-0e5caa6e7b7b",
   "metadata": {},
   "source": [
    "## Large Synthetic Training and Test Sets"
   ]
  },
  {
   "cell_type": "code",
   "execution_count": 2,
   "id": "91d86525-404f-4c82-80b5-38eafc26955f",
   "metadata": {},
   "outputs": [],
   "source": [
    "from sklearn.datasets import make_classification\n",
    "\n",
    "X, y = make_classification(\n",
    "    n_samples=10_002_000,\n",
    "    n_features=12,\n",
    "    n_redundant=5,\n",
    "    n_classes=2,\n",
    "    random_state=123,\n",
    "    flip_y=0.25,\n",
    ")"
   ]
  },
  {
   "cell_type": "code",
   "execution_count": 3,
   "id": "fd6fb5cc-24d1-47bd-8682-f4fd25f1eda4",
   "metadata": {},
   "outputs": [],
   "source": [
    "X_train = X[:1_000]\n",
    "y_train = y[:1_000]\n",
    "\n",
    "X_test = X[1_000:2_000]\n",
    "y_test = y[1_000:2_000]\n",
    "\n",
    "X_huge_test = X[2_000:]\n",
    "y_huge_test = y[2_000:]"
   ]
  },
  {
   "cell_type": "markdown",
   "id": "9c018df3-637b-41bd-b270-4935527fff94",
   "metadata": {},
   "source": [
    "- Note that the 1000 data points are used for training, the second 1000 data points are used for testing, and the remaining 10,000,000 data points represent the dataset we use to calculate the true performance of the model."
   ]
  },
  {
   "cell_type": "markdown",
   "id": "a391f1e1-d3ab-45fe-81ee-bf5a48600afd",
   "metadata": {},
   "source": [
    "## True Generalization Performance"
   ]
  },
  {
   "cell_type": "code",
   "execution_count": 4,
   "id": "7ce712bf-e9ba-4764-a3af-e03e1261939b",
   "metadata": {},
   "outputs": [
    {
     "data": {
      "text/plain": [
       "0.7882329"
      ]
     },
     "execution_count": 4,
     "metadata": {},
     "output_type": "execute_result"
    }
   ],
   "source": [
    "from sklearn.neural_network import MLPClassifier\n",
    "\n",
    "\n",
    "clf = MLPClassifier(\n",
    "    hidden_layer_sizes=(10,),\n",
    "    activation=\"relu\",\n",
    "    learning_rate_init=0.01,\n",
    "    random_state=123,\n",
    "    solver=\"adam\",\n",
    "    max_iter=500\n",
    ")\n",
    "\n",
    "clf.fit(X_train, y_train)\n",
    "\n",
    "acc_test_true = clf.score(X_huge_test, y_huge_test)\n",
    "acc_test_true"
   ]
  },
  {
   "cell_type": "markdown",
   "id": "68a4eee6-2422-4b9d-9d89-a7ffef36d730",
   "metadata": {},
   "source": [
    "## 1) Normal Approximation Interval Based on the Test Set"
   ]
  },
  {
   "cell_type": "code",
   "execution_count": 5,
   "id": "98aad95f-e372-4766-9912-5828f2f83720",
   "metadata": {},
   "outputs": [
    {
     "name": "stdout",
     "output_type": "stream",
     "text": [
      "0.7720698282384794 0.8219301717615207\n"
     ]
    }
   ],
   "source": [
    "import numpy as np\n",
    "import scipy.stats\n",
    "\n",
    "confidence = 0.95  # Change to your desired confidence level\n",
    "z_value = scipy.stats.norm.ppf((1 + confidence) / 2.0)\n",
    "\n",
    "\n",
    "clf.fit(X_train, y_train)\n",
    "\n",
    "acc_test = clf.score(X_test, y_test)\n",
    "ci_length = z_value * np.sqrt((acc_test * (1 - acc_test)) / y_test.shape[0])\n",
    "\n",
    "ci_lower = acc_test - ci_length\n",
    "ci_upper = acc_test + ci_length\n",
    "\n",
    "print(ci_lower, ci_upper)"
   ]
  },
  {
   "cell_type": "code",
   "execution_count": 6,
   "id": "9a7f37e8-2bf5-447f-be9c-9306c6881a60",
   "metadata": {},
   "outputs": [],
   "source": [
    "results = {\n",
    "    \"Method 1: Normal approximation\": {\n",
    "        \"Test accuracy\": acc_test,\n",
    "        \"Lower 95% CI\": ci_lower,\n",
    "        \"Upper 95% CI\": ci_upper,\n",
    "    }\n",
    "}"
   ]
  },
  {
   "cell_type": "markdown",
   "id": "93d20746-5386-45b1-96cb-7c8d43fc2aa6",
   "metadata": {},
   "source": [
    "## 2) Bootstrapping Training Sets"
   ]
  },
  {
   "cell_type": "code",
   "execution_count": 7,
   "id": "4539dd53-3974-4978-9d6c-8bc9991b7b9a",
   "metadata": {},
   "outputs": [
    {
     "data": {
      "text/plain": [
       "0.769659240981034"
      ]
     },
     "execution_count": 7,
     "metadata": {},
     "output_type": "execute_result"
    }
   ],
   "source": [
    "import numpy as np\n",
    "\n",
    "rng = np.random.RandomState(seed=12345)\n",
    "idx = np.arange(y_train.shape[0])\n",
    "\n",
    "bootstrap_train_accuracies = []\n",
    "bootstrap_rounds = 200\n",
    "\n",
    "\n",
    "for i in range(bootstrap_rounds):\n",
    "\n",
    "    train_idx = rng.choice(idx, size=idx.shape[0], replace=True)\n",
    "    valid_idx = np.setdiff1d(idx, train_idx, assume_unique=False)\n",
    "\n",
    "    boot_train_X, boot_train_y = X_train[train_idx], y_train[train_idx]\n",
    "    boot_valid_X, boot_valid_y = X_train[valid_idx], y_train[valid_idx]\n",
    "\n",
    "    clf.fit(boot_train_X, boot_train_y)\n",
    "    acc = clf.score(boot_valid_X, boot_valid_y)\n",
    "    bootstrap_train_accuracies.append(acc)\n",
    "\n",
    "bootstrap_train_mean = np.mean(bootstrap_train_accuracies)\n",
    "bootstrap_train_mean"
   ]
  },
  {
   "cell_type": "markdown",
   "id": "67a3827e-6b5a-49fe-bb82-6819d2f71dea",
   "metadata": {},
   "source": [
    "- We can visualize the test accuracies from bootstrapping ($ \\text{ACC}_{\\text{boot}, j}$) along with their sample mean ($\\text{ACC}_{\\text{bootavg}}$) in a historgram:"
   ]
  },
  {
   "cell_type": "markdown",
   "id": "116785aa-ced2-4931-8749-bc568be9f174",
   "metadata": {},
   "source": [
    "#### Using the Percentile Method"
   ]
  },
  {
   "cell_type": "code",
   "execution_count": 8,
   "id": "dffef535-c33a-4450-a014-91a36b984143",
   "metadata": {},
   "outputs": [
    {
     "name": "stdout",
     "output_type": "stream",
     "text": [
      "0.7280214285714285 0.8092909569699687\n"
     ]
    }
   ],
   "source": [
    "ci_lower = np.percentile(bootstrap_train_accuracies, 2.5)\n",
    "ci_upper = np.percentile(bootstrap_train_accuracies, 97.5)\n",
    "\n",
    "print(ci_lower, ci_upper)"
   ]
  },
  {
   "cell_type": "markdown",
   "id": "f083f9f3-baf6-46d1-a164-55af52ffe172",
   "metadata": {},
   "source": [
    "- Let's have a look how it looks like in the context of our "
   ]
  },
  {
   "cell_type": "code",
   "execution_count": 9,
   "id": "775e8291-79f4-4dfb-a5cb-229340d17c20",
   "metadata": {},
   "outputs": [],
   "source": [
    "results[\"Method 2: Bootstrap, percentile\"] = {\n",
    "    \"Test accuracy\": bootstrap_train_mean,\n",
    "    \"Lower 95% CI\": ci_lower,\n",
    "    \"Upper 95% CI\": ci_upper,\n",
    "}"
   ]
  },
  {
   "cell_type": "markdown",
   "id": "dd71a1de-ab21-482a-8618-bfca8eac0f75",
   "metadata": {},
   "source": [
    "## 3) Bootstrapping the Test Set Predictions"
   ]
  },
  {
   "cell_type": "code",
   "execution_count": 10,
   "id": "2f8f89de-4b18-40bc-91bc-3159031681ee",
   "metadata": {},
   "outputs": [
    {
     "data": {
      "text/plain": [
       "0.7963800000000001"
      ]
     },
     "execution_count": 10,
     "metadata": {},
     "output_type": "execute_result"
    }
   ],
   "source": [
    "clf.fit(X_train, y_train)\n",
    "\n",
    "predictions_test = clf.predict(X_test)\n",
    "acc_test = np.mean(predictions_test == y_test)\n",
    "\n",
    "rng = np.random.RandomState(seed=12345)\n",
    "idx = np.arange(y_test.shape[0])\n",
    "\n",
    "test_accuracies = []\n",
    "\n",
    "for i in range(200):\n",
    "\n",
    "    pred_idx = rng.choice(idx, size=idx.shape[0], replace=True)\n",
    "    acc_test_boot = np.mean(predictions_test[pred_idx] == y_test[pred_idx])\n",
    "    test_accuracies.append(acc_test_boot)\n",
    "\n",
    "bootstrap_train_mean = np.mean(test_accuracies)\n",
    "bootstrap_train_mean"
   ]
  },
  {
   "cell_type": "markdown",
   "id": "36320135-7ab7-4ec5-9583-6354f9e6f130",
   "metadata": {},
   "source": [
    "- We can then use the familiar percentile approach to get the confidence interval:"
   ]
  },
  {
   "cell_type": "code",
   "execution_count": 11,
   "id": "a605c0b8-5a6a-4ee1-b77c-ad1224a26da4",
   "metadata": {},
   "outputs": [
    {
     "name": "stdout",
     "output_type": "stream",
     "text": [
      "0.768 0.825\n"
     ]
    }
   ],
   "source": [
    "ci_lower = np.percentile(test_accuracies, 2.5)\n",
    "ci_upper = np.percentile(test_accuracies, 97.5)\n",
    "\n",
    "print(ci_lower, ci_upper)"
   ]
  },
  {
   "cell_type": "code",
   "execution_count": 12,
   "id": "2f392400-0ccb-47af-9932-8131739a317f",
   "metadata": {},
   "outputs": [],
   "source": [
    "results[\"Method 3: Bootstrap test set\"] = {\n",
    "    \"Test accuracy\": bootstrap_train_mean,\n",
    "    \"Lower 95% CI\": ci_lower,\n",
    "    \"Upper 95% CI\": ci_upper,\n",
    "}"
   ]
  },
  {
   "cell_type": "markdown",
   "id": "cb9ec28a-f43e-4f6c-a5b5-741deff5a49a",
   "metadata": {},
   "source": [
    "## 4) Confidence Intervals from Retraining Models with Different Random Seeds"
   ]
  },
  {
   "cell_type": "code",
   "execution_count": 13,
   "id": "8cd8706e-5066-4ff9-bb87-23c7817a1993",
   "metadata": {},
   "outputs": [
    {
     "data": {
      "text/plain": [
       "0.7934"
      ]
     },
     "execution_count": 13,
     "metadata": {},
     "output_type": "execute_result"
    }
   ],
   "source": [
    "test_accuracies = []\n",
    "rounds = 5\n",
    "\n",
    "\n",
    "for i in range(rounds):\n",
    "    \n",
    "    clf = MLPClassifier(\n",
    "        hidden_layer_sizes=(10,),\n",
    "        activation=\"relu\",\n",
    "        learning_rate_init=0.01,\n",
    "        random_state=i,  # only change random seed here\n",
    "        solver=\"adam\",\n",
    "        max_iter=500\n",
    ")\n",
    "\n",
    "    clf.fit(X_train, y_train)\n",
    "    acc = clf.score(X_test, y_test)\n",
    "    test_accuracies.append(acc)\n",
    "\n",
    "test_mean = np.mean(test_accuracies)\n",
    "test_mean"
   ]
  },
  {
   "cell_type": "code",
   "execution_count": 14,
   "id": "45635b69-acfa-4028-86cc-393d12f50e32",
   "metadata": {},
   "outputs": [
    {
     "name": "stdout",
     "output_type": "stream",
     "text": [
      "0.7838787766707844 0.8029212233292156\n"
     ]
    }
   ],
   "source": [
    "confidence = 0.95  # Change to your desired confidence level\n",
    "t_value = scipy.stats.t.ppf((1 + confidence) / 2.0, df=rounds - 1)\n",
    "\n",
    "sd = np.std(test_accuracies, ddof=1)\n",
    "se = sd / np.sqrt(rounds)\n",
    "\n",
    "ci_length = t_value * se\n",
    "\n",
    "ci_lower = test_mean - ci_length\n",
    "ci_upper = test_mean + ci_length\n",
    "\n",
    "print(ci_lower, ci_upper)"
   ]
  },
  {
   "cell_type": "code",
   "execution_count": 15,
   "id": "46661c99-4f4f-4dc1-88df-666d8b3aa8f6",
   "metadata": {},
   "outputs": [],
   "source": [
    "results[\"Method 4: Random seeds\"] = {\n",
    "    \"Test accuracy\": test_mean,\n",
    "    \"Lower 95% CI\": ci_lower,\n",
    "    \"Upper 95% CI\": ci_upper,\n",
    "}"
   ]
  },
  {
   "cell_type": "markdown",
   "id": "cb4ec325-61b9-4862-acf4-0bfa523d228d",
   "metadata": {},
   "source": [
    "## Comparison"
   ]
  },
  {
   "cell_type": "code",
   "execution_count": 16,
   "id": "3be3ae62-a57d-4183-bcf4-b80593e1f7e2",
   "metadata": {},
   "outputs": [
    {
     "data": {
      "image/png": "[encoded data removed]",
      "text/plain": [
       "<Figure size 700x300 with 1 Axes>"
      ]
     },
     "metadata": {},
     "output_type": "display_data"
    }
   ],
   "source": [
    "%matplotlib inline\n",
    "import matplotlib.pyplot as plt\n",
    "\n",
    "labels = list(results.keys())\n",
    "\n",
    "means = np.array([results[k][\"Test accuracy\"] for k in labels])\n",
    "lower_error = np.array([results[k][\"Lower 95% CI\"] for k in labels])\n",
    "upper_error = np.array([results[k][\"Upper 95% CI\"] for k in labels])\n",
    "\n",
    "asymmetric_error = [means - lower_error, upper_error - means]\n",
    "\n",
    "\n",
    "fig, ax = plt.subplots(figsize=(7, 3))\n",
    "ax.errorbar(means, np.arange(len(means)), xerr=asymmetric_error, fmt=\"o\")\n",
    "ax.set_xlim([0.7, 1.0])\n",
    "ax.set_yticks(np.arange(len(means)))\n",
    "ax.set_yticklabels(labels)\n",
    "ax.set_xlabel(\"Prediction accuracy\")\n",
    "ax.set_title(\"95% confidence intervals\")\n",
    "\n",
    "ax.vlines(acc_test_true, [0], 5, lw=1.5, color=\"red\", linestyle=\"-\", label=\"True value\")\n",
    "\n",
    "plt.grid()\n",
    "plt.tight_layout()\n",
    "plt.show()"
   ]
  }
 ],
 "metadata": {
  "kernelspec": {
   "display_name": "Python 3 (ipykernel)",
   "language": "python",
   "name": "python3"
  },
  "language_info": {
   "codemirror_mode": {
    "name": "ipython",
    "version": 3
   },
   "file_extension": ".py",
   "mimetype": "text/x-python",
   "name": "python",
   "nbconvert_exporter": "python",
   "pygments_lexer": "ipython3",
   "version": "3.10.6"
  }
 },
 "nbformat": 4,
 "nbformat_minor": 5
}
