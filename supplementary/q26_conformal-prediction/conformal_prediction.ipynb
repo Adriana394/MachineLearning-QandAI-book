{
 "cells": [
  {
   "cell_type": "code",
   "execution_count": 1,
   "id": "831ce106-fe2f-45d4-a12b-50709043948e",
   "metadata": {},
   "outputs": [],
   "source": [
    "%load_ext watermark"
   ]
  },
  {
   "cell_type": "code",
   "execution_count": 2,
   "id": "9221f194-8590-4689-a4d7-279a27ab98c4",
   "metadata": {},
   "outputs": [
    {
     "name": "stdout",
     "output_type": "stream",
     "text": [
      "scikit-learn: 1.2.2\n",
      "mapie       : 0.6.4\n",
      "numpy       : 1.23.5\n",
      "\n"
     ]
    }
   ],
   "source": [
    "%watermark -p scikit-learn,mapie,numpy"
   ]
  },
  {
   "cell_type": "markdown",
   "id": "d641978b-0ee5-4bf5-849c-5b575e1de6a9",
   "metadata": {},
   "source": [
    "## Define a Dataset"
   ]
  },
  {
   "cell_type": "code",
   "execution_count": 3,
   "id": "9750c18e-807d-4615-8055-d4c52fc2f94a",
   "metadata": {},
   "outputs": [],
   "source": [
    "from sklearn.datasets import load_iris\n",
    "from sklearn.model_selection import train_test_split\n",
    "\n",
    "\n",
    "iris = load_iris()\n",
    "X = iris.data\n",
    "y = iris.target\n",
    "\n",
    "X_, X_test, y_, y_test = train_test_split(\n",
    "    X, y, test_size=0.015, random_state=123, stratify=y)\n",
    "    \n",
    "# make training and calibration dataset\n",
    "X_train, X_calib, y_train, y_calib = train_test_split(\n",
    "    X_, y_, test_size=0.5, random_state=123, stratify=y_)"
   ]
  },
  {
   "cell_type": "markdown",
   "id": "7426fced-f48b-4ca0-a535-a0d2d502391c",
   "metadata": {},
   "source": [
    "## Train a Model"
   ]
  },
  {
   "cell_type": "code",
   "execution_count": 4,
   "id": "585a361b-5c4b-482b-b1dc-715a51458004",
   "metadata": {},
   "outputs": [],
   "source": [
    "from sklearn.linear_model import LogisticRegression\n",
    "\n",
    "model = LogisticRegression(random_state=123, solver=\"newton-cg\")\n",
    "\n",
    "model.fit(X_train, y_train);"
   ]
  },
  {
   "cell_type": "markdown",
   "id": "fe4be80e-e960-4aaf-ad7d-b552196cec87",
   "metadata": {},
   "source": [
    "## Get Predictions"
   ]
  },
  {
   "cell_type": "code",
   "execution_count": 5,
   "id": "135e10e1-b701-4371-b8b8-c6e7e15fe10a",
   "metadata": {},
   "outputs": [
    {
     "data": {
      "text/plain": [
       "(74, 3)"
      ]
     },
     "execution_count": 5,
     "metadata": {},
     "output_type": "execute_result"
    }
   ],
   "source": [
    "pred = model.predict_proba(X_calib)\n",
    "\n",
    "# predictions have the shape [n_samples, n_classes]\n",
    "pred.shape"
   ]
  },
  {
   "cell_type": "code",
   "execution_count": 6,
   "id": "9ddad3d5-fd48-4cba-8679-8047d85e2d08",
   "metadata": {},
   "outputs": [
    {
     "data": {
      "text/plain": [
       "array([3.21511883e-06, 2.02140907e-02, 9.79782694e-01])"
      ]
     },
     "execution_count": 6,
     "metadata": {},
     "output_type": "execute_result"
    }
   ],
   "source": [
    "# each entry has 3 probability scores here, 1 for each class\n",
    "pred[0] # first prediction"
   ]
  },
  {
   "cell_type": "markdown",
   "id": "2dc0bd0b-ccc7-4411-b43b-43bdd94e9c85",
   "metadata": {},
   "source": [
    "# Conformal Prediction From Scratch"
   ]
  },
  {
   "cell_type": "markdown",
   "id": "dc2108d7-c914-42d8-8f11-cfc73e0fb32b",
   "metadata": {},
   "source": [
    "#### Compute quantile threshold"
   ]
  },
  {
   "cell_type": "code",
   "execution_count": 7,
   "id": "477c9253-ab5b-4cbc-92c1-a15c3b9041ff",
   "metadata": {},
   "outputs": [],
   "source": [
    "confidence_level = 0.95"
   ]
  },
  {
   "cell_type": "code",
   "execution_count": 8,
   "id": "fa3d3f4c-6862-4a45-aae4-f8d8b4e334d4",
   "metadata": {},
   "outputs": [
    {
     "name": "stdout",
     "output_type": "stream",
     "text": [
      "(74,)\n"
     ]
    }
   ],
   "source": [
    "import numpy as np\n",
    "\n",
    "\n",
    "# Select the probabilities corresponding to the true class labels\n",
    "\n",
    "proba_true = pred[np.arange(y_calib.shape[0]), y_calib]\n",
    "print(proba_true.shape)"
   ]
  },
  {
   "cell_type": "code",
   "execution_count": 9,
   "id": "2a2a56b9-a40c-41cd-8639-f8e5783ab6f7",
   "metadata": {},
   "outputs": [],
   "source": [
    "# Compute nonconformity score\n",
    "\n",
    "nc_scores = 1 - proba_true"
   ]
  },
  {
   "cell_type": "code",
   "execution_count": 10,
   "id": "cc46575a-8290-45f9-90b2-b8bbfd82450c",
   "metadata": {},
   "outputs": [
    {
     "data": {
      "image/png": "[encoded data removed]",
      "text/plain": [
       "<Figure size 640x480 with 1 Axes>"
      ]
     },
     "metadata": {},
     "output_type": "display_data"
    }
   ],
   "source": [
    "import matplotlib.pyplot as plt\n",
    "\n",
    "plt.hist(nc_scores, bins=20, range=[0, 1])\n",
    "plt.xlabel(\"Nonconformity score\")\n",
    "plt.ylabel(\"Frequency\")\n",
    "plt.show()"
   ]
  },
  {
   "cell_type": "code",
   "execution_count": 11,
   "id": "14521e74-11ea-40b6-b03a-b6fc837d65ef",
   "metadata": {},
   "outputs": [
    {
     "data": {
      "text/plain": [
       "0.972972972972973"
      ]
     },
     "execution_count": 11,
     "metadata": {},
     "output_type": "execute_result"
    }
   ],
   "source": [
    "# apply finite sample correction\n",
    "\n",
    "n = y_calib.shape[0]\n",
    "\n",
    "q_level = np.ceil((n+1)*(confidence_level))/n\n",
    "q_level"
   ]
  },
  {
   "cell_type": "code",
   "execution_count": 12,
   "id": "df26b84c-b07d-4a18-996f-703b486823c1",
   "metadata": {},
   "outputs": [
    {
     "data": {
      "text/plain": [
       "0.5469768837244118"
      ]
     },
     "execution_count": 12,
     "metadata": {},
     "output_type": "execute_result"
    }
   ],
   "source": [
    "# select the threshold such that 95% of the cases\n",
    "# are included (fall below)\n",
    "\n",
    "thres = np.quantile(nc_scores, q_level, method=\"higher\")\n",
    "thres"
   ]
  },
  {
   "cell_type": "code",
   "execution_count": 13,
   "id": "9adc520e-1afb-4971-895b-8cced5233bdc",
   "metadata": {},
   "outputs": [
    {
     "data": {
      "image/png": "[encoded data removed]",
      "text/plain": [
       "<Figure size 640x480 with 1 Axes>"
      ]
     },
     "metadata": {},
     "output_type": "display_data"
    }
   ],
   "source": [
    "import matplotlib.pyplot as plt\n",
    "\n",
    "plt.hist(nc_scores, bins=20, range=[0, 1])\n",
    "plt.axvline(thres, color=\"black\", label=\"Threshold\")\n",
    "plt.xlabel(\"Nonconformity score\")\n",
    "plt.ylabel(\"Frequency\")\n",
    "plt.legend()\n",
    "plt.show()"
   ]
  },
  {
   "cell_type": "markdown",
   "id": "6d11fed1-c67a-4778-b993-c59224792ce6",
   "metadata": {},
   "source": [
    "#### Compute predictions sets for new data"
   ]
  },
  {
   "cell_type": "code",
   "execution_count": 14,
   "id": "e947b7dd-08cc-45df-82e6-b9d00c8d23d1",
   "metadata": {},
   "outputs": [
    {
     "data": {
      "text/plain": [
       "array([[False,  True,  True],\n",
       "       [ True, False, False],\n",
       "       [False, False,  True]])"
      ]
     },
     "execution_count": 14,
     "metadata": {},
     "output_type": "execute_result"
    }
   ],
   "source": [
    "test_nc_scores = 1 - model.predict_proba(X_test)\n",
    "\n",
    "prediction_sets = test_nc_scores <= thres\n",
    "\n",
    "prediction_sets"
   ]
  },
  {
   "cell_type": "code",
   "execution_count": 15,
   "id": "ff023673-436a-47f7-a7d3-65fffc907c1f",
   "metadata": {},
   "outputs": [
    {
     "name": "stdout",
     "output_type": "stream",
     "text": [
      "['Versicolor' 'Virginica']\n",
      "['Setosa']\n",
      "['Virginica']\n"
     ]
    }
   ],
   "source": [
    "class_names = np.array([\"Setosa\", \"Versicolor\", \"Virginica\"])\n",
    "\n",
    "for row in prediction_sets:\n",
    "    print(class_names[row])"
   ]
  },
  {
   "cell_type": "markdown",
   "id": "44b492dc-92c5-48d8-8a8b-694eacf0ffee",
   "metadata": {},
   "source": [
    "# Conformal Prediction Using MAPIE"
   ]
  },
  {
   "cell_type": "markdown",
   "id": "d06dd846-321a-4d04-aac4-2ad99d51a8ec",
   "metadata": {},
   "source": [
    "- MAPIE documentation: https://mapie.readthedocs.io/\n",
    "- Code is inspired by Christoph Molnar's [\"Conformal Prediction\" book](https://christophmolnar.com/books/conformal-prediction/)"
   ]
  },
  {
   "cell_type": "code",
   "execution_count": 16,
   "id": "763dde38-4a99-47b6-bb95-797683d1c923",
   "metadata": {},
   "outputs": [
    {
     "data": {
      "text/html": [
       "<style>#sk-container-id-1 {color: black;background-color: white;}#sk-container-id-1 pre{padding: 0;}#sk-container-id-1 div.sk-toggleable {background-color: white;}#sk-container-id-1 label.sk-toggleable__label {cursor: pointer;display: block;width: 100%;margin-bottom: 0;padding: 0.3em;box-sizing: border-box;text-align: center;}#sk-container-id-1 label.sk-toggleable__label-arrow:before {content: \"▸\";float: left;margin-right: 0.25em;color: #696969;}#sk-container-id-1 label.sk-toggleable__label-arrow:hover:before {color: black;}#sk-container-id-1 div.sk-estimator:hover label.sk-toggleable__label-arrow:before {color: black;}#sk-container-id-1 div.sk-toggleable__content {max-height: 0;max-width: 0;overflow: hidden;text-align: left;background-color: #f0f8ff;}#sk-container-id-1 div.sk-toggleable__content pre {margin: 0.2em;color: black;border-radius: 0.25em;background-color: #f0f8ff;}#sk-container-id-1 input.sk-toggleable__control:checked~div.sk-toggleable__content {max-height: 200px;max-width: 100%;overflow: auto;}#sk-container-id-1 input.sk-toggleable__control:checked~label.sk-toggleable__label-arrow:before {content: \"▾\";}#sk-container-id-1 div.sk-estimator input.sk-toggleable__control:checked~label.sk-toggleable__label {background-color: #d4ebff;}#sk-container-id-1 div.sk-label input.sk-toggleable__control:checked~label.sk-toggleable__label {background-color: #d4ebff;}#sk-container-id-1 input.sk-hidden--visually {border: 0;clip: rect(1px 1px 1px 1px);clip: rect(1px, 1px, 1px, 1px);height: 1px;margin: -1px;overflow: hidden;padding: 0;position: absolute;width: 1px;}#sk-container-id-1 div.sk-estimator {font-family: monospace;background-color: #f0f8ff;border: 1px dotted black;border-radius: 0.25em;box-sizing: border-box;margin-bottom: 0.5em;}#sk-container-id-1 div.sk-estimator:hover {background-color: #d4ebff;}#sk-container-id-1 div.sk-parallel-item::after {content: \"\";width: 100%;border-bottom: 1px solid gray;flex-grow: 1;}#sk-container-id-1 div.sk-label:hover label.sk-toggleable__label {background-color: #d4ebff;}#sk-container-id-1 div.sk-serial::before {content: \"\";position: absolute;border-left: 1px solid gray;box-sizing: border-box;top: 0;bottom: 0;left: 50%;z-index: 0;}#sk-container-id-1 div.sk-serial {display: flex;flex-direction: column;align-items: center;background-color: white;padding-right: 0.2em;padding-left: 0.2em;position: relative;}#sk-container-id-1 div.sk-item {position: relative;z-index: 1;}#sk-container-id-1 div.sk-parallel {display: flex;align-items: stretch;justify-content: center;background-color: white;position: relative;}#sk-container-id-1 div.sk-item::before, #sk-container-id-1 div.sk-parallel-item::before {content: \"\";position: absolute;border-left: 1px solid gray;box-sizing: border-box;top: 0;bottom: 0;left: 50%;z-index: -1;}#sk-container-id-1 div.sk-parallel-item {display: flex;flex-direction: column;z-index: 1;position: relative;background-color: white;}#sk-container-id-1 div.sk-parallel-item:first-child::after {align-self: flex-end;width: 50%;}#sk-container-id-1 div.sk-parallel-item:last-child::after {align-self: flex-start;width: 50%;}#sk-container-id-1 div.sk-parallel-item:only-child::after {width: 0;}#sk-container-id-1 div.sk-dashed-wrapped {border: 1px dashed gray;margin: 0 0.4em 0.5em 0.4em;box-sizing: border-box;padding-bottom: 0.4em;background-color: white;}#sk-container-id-1 div.sk-label label {font-family: monospace;font-weight: bold;display: inline-block;line-height: 1.2em;}#sk-container-id-1 div.sk-label-container {text-align: center;}#sk-container-id-1 div.sk-container {/* jupyter's `normalize.less` sets `[hidden] { display: none; }` but bootstrap.min.css set `[hidden] { display: none !important; }` so we also need the `!important` here to be able to override the default hidden behavior on the sphinx rendered scikit-learn.org. See: https://github.com/scikit-learn/scikit-learn/issues/21755 */display: inline-block !important;position: relative;}#sk-container-id-1 div.sk-text-repr-fallback {display: none;}</style><div id=\"sk-container-id-1\" class=\"sk-top-container\"><div class=\"sk-text-repr-fallback\"><pre>MapieClassifier(cv=&#x27;prefit&#x27;,\n",
       "                estimator=LogisticRegression(random_state=123,\n",
       "                                             solver=&#x27;newton-cg&#x27;))</pre><b>In a Jupyter environment, please rerun this cell to show the HTML representation or trust the notebook. <br />On GitHub, the HTML representation is unable to render, please try loading this page with nbviewer.org.</b></div><div class=\"sk-container\" hidden><div class=\"sk-item sk-dashed-wrapped\"><div class=\"sk-label-container\"><div class=\"sk-label sk-toggleable\"><input class=\"sk-toggleable__control sk-hidden--visually\" id=\"sk-estimator-id-1\" type=\"checkbox\" ><label for=\"sk-estimator-id-1\" class=\"sk-toggleable__label sk-toggleable__label-arrow\">MapieClassifier</label><div class=\"sk-toggleable__content\"><pre>MapieClassifier(cv=&#x27;prefit&#x27;,\n",
       "                estimator=LogisticRegression(random_state=123,\n",
       "                                             solver=&#x27;newton-cg&#x27;))</pre></div></div></div><div class=\"sk-parallel\"><div class=\"sk-parallel-item\"><div class=\"sk-item\"><div class=\"sk-label-container\"><div class=\"sk-label sk-toggleable\"><input class=\"sk-toggleable__control sk-hidden--visually\" id=\"sk-estimator-id-2\" type=\"checkbox\" ><label for=\"sk-estimator-id-2\" class=\"sk-toggleable__label sk-toggleable__label-arrow\">estimator: LogisticRegression</label><div class=\"sk-toggleable__content\"><pre>LogisticRegression(random_state=123, solver=&#x27;newton-cg&#x27;)</pre></div></div></div><div class=\"sk-serial\"><div class=\"sk-item\"><div class=\"sk-estimator sk-toggleable\"><input class=\"sk-toggleable__control sk-hidden--visually\" id=\"sk-estimator-id-3\" type=\"checkbox\" ><label for=\"sk-estimator-id-3\" class=\"sk-toggleable__label sk-toggleable__label-arrow\">LogisticRegression</label><div class=\"sk-toggleable__content\"><pre>LogisticRegression(random_state=123, solver=&#x27;newton-cg&#x27;)</pre></div></div></div></div></div></div></div></div></div></div>"
      ],
      "text/plain": [
       "MapieClassifier(cv='prefit',\n",
       "                estimator=LogisticRegression(random_state=123,\n",
       "                                             solver='newton-cg'))"
      ]
     },
     "execution_count": 16,
     "metadata": {},
     "output_type": "execute_result"
    }
   ],
   "source": [
    "from mapie.classification import MapieClassifier\n",
    "\n",
    "\n",
    "cp = MapieClassifier(estimator=model, cv=\"prefit\", method=\"score\")\n",
    "cp.fit(X_calib, y_calib)"
   ]
  },
  {
   "cell_type": "code",
   "execution_count": 17,
   "id": "6fa514ce-6bc8-477d-b241-b8c008553856",
   "metadata": {},
   "outputs": [
    {
     "data": {
      "text/plain": [
       "array([[False,  True,  True],\n",
       "       [ True, False, False],\n",
       "       [False, False,  True]])"
      ]
     },
     "execution_count": 17,
     "metadata": {},
     "output_type": "execute_result"
    }
   ],
   "source": [
    "y_pred, y_set = cp.predict(X_test, alpha=1-confidence_level)\n",
    "y_set = np.squeeze(y_set)\n",
    "y_set"
   ]
  },
  {
   "cell_type": "code",
   "execution_count": 18,
   "id": "acd54b34-d678-4fbb-a487-35c948eb1229",
   "metadata": {},
   "outputs": [
    {
     "name": "stdout",
     "output_type": "stream",
     "text": [
      "['Versicolor' 'Virginica']\n",
      "['Setosa']\n",
      "['Virginica']\n"
     ]
    }
   ],
   "source": [
    "for row in y_set:\n",
    "    print(class_names[row])"
   ]
  }
 ],
 "metadata": {
  "kernelspec": {
   "display_name": "Python 3 (ipykernel)",
   "language": "python",
   "name": "python3"
  },
  "language_info": {
   "codemirror_mode": {
    "name": "ipython",
    "version": 3
   },
   "file_extension": ".py",
   "mimetype": "text/x-python",
   "name": "python",
   "nbconvert_exporter": "python",
   "pygments_lexer": "ipython3",
   "version": "3.10.6"
  }
 },
 "nbformat": 4,
 "nbformat_minor": 5
}
